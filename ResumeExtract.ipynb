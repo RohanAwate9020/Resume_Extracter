{
  "nbformat": 4,
  "nbformat_minor": 0,
  "metadata": {
    "colab": {
      "name": "ResumeExtract.ipynb",
      "provenance": [],
      "collapsed_sections": [],
      "authorship_tag": "ABX9TyNtKLjodKnUdnERw8p6LPpD",
      "include_colab_link": true
    },
    "kernelspec": {
      "name": "python3",
      "display_name": "Python 3"
    },
    "language_info": {
      "name": "python"
    }
  },
  "cells": [
    {
      "cell_type": "markdown",
      "metadata": {
        "id": "view-in-github",
        "colab_type": "text"
      },
      "source": [
        "<a href=\"https://colab.research.google.com/github/RohanAwate9020/Resume_Extracter/blob/main/ResumeExtract.ipynb\" target=\"_parent\"><img src=\"https://colab.research.google.com/assets/colab-badge.svg\" alt=\"Open In Colab\"/></a>"
      ]
    },
    {
      "cell_type": "code",
      "execution_count": 116,
      "metadata": {
        "id": "0QoEOGMzLxf9"
      },
      "outputs": [],
      "source": [
        "import warnings\n",
        "warnings.filterwarnings('ignore')"
      ]
    },
    {
      "cell_type": "code",
      "source": [
        "import en_core_web_sm\n",
        "nlp= en_core_web_sm.load()"
      ],
      "metadata": {
        "id": "JD09qrnDNHHP"
      },
      "execution_count": 117,
      "outputs": []
    },
    {
      "cell_type": "code",
      "source": [
        "!pip install PyPDF2\n",
        "import PyPDF2\n",
        "import os\n",
        "import json"
      ],
      "metadata": {
        "colab": {
          "base_uri": "https://localhost:8080/"
        },
        "id": "Nn7oH0QXNRLr",
        "outputId": "bab0f592-6ef4-4267-b15e-11e75d55dd7d"
      },
      "execution_count": 118,
      "outputs": [
        {
          "output_type": "stream",
          "name": "stdout",
          "text": [
            "Requirement already satisfied: PyPDF2 in /usr/local/lib/python3.7/dist-packages (1.26.0)\n"
          ]
        }
      ]
    },
    {
      "cell_type": "code",
      "source": [
        "!pip install pyresparser\n",
        "import nltk\n",
        "nltk.download('stopwords')\n",
        "from pyresparser import ResumeParser\n",
        "import PyPDF2"
      ],
      "metadata": {
        "id": "AA4PlQmGN-kq"
      },
      "execution_count": null,
      "outputs": []
    },
    {
      "cell_type": "code",
      "source": [
        "list=[]"
      ],
      "metadata": {
        "id": "2XR3mtSIXrwH"
      },
      "execution_count": 120,
      "outputs": []
    },
    {
      "cell_type": "code",
      "source": [
        "file= input()"
      ],
      "metadata": {
        "colab": {
          "base_uri": "https://localhost:8080/"
        },
        "id": "7qoY7OVqX8cE",
        "outputId": "d22d88f7-da50-4395-e3d7-d9e7c1d509fb"
      },
      "execution_count": 121,
      "outputs": [
        {
          "name": "stdout",
          "output_type": "stream",
          "text": [
            "/content/Resume.pdf\n"
          ]
        }
      ]
    },
    {
      "cell_type": "code",
      "source": [
        "data=ResumeParser(file).get_extracted_data()"
      ],
      "metadata": {
        "id": "FUdK5noiYC0L"
      },
      "execution_count": 122,
      "outputs": []
    },
    {
      "cell_type": "code",
      "source": [
        "data\n",
        "with open('Extract_data.json', 'w') as f: \n",
        " json.dump(data, f) "
      ],
      "metadata": {
        "id": "tIW2URp6Y1Tc"
      },
      "execution_count": 123,
      "outputs": []
    },
    {
      "cell_type": "code",
      "source": [
        "name=data['name']\n",
        "skill_list=data['skills']\n",
        "\n",
        "\n",
        "#Converted user skills to uppercase for sapce and time complexity\n",
        "upskill=[]\n",
        "for i in skill_list:\n",
        "  upskill.append(i.upper())\n",
        "upskill\n",
        "\n",
        "\n",
        "#to find out front end languages known to candidate\n",
        "frntendlang=['HTML','CSS','HTML5','JAVASCRIPT','JAVA SCRIPTS','JAVA SCRIPT','REACT','VUE','ANGULAR','JQUERY','SWIFT','FLUTTER'] #Front End languages\n",
        "skill_set=set(upskill)                    \n",
        "frntendlang_set=set(frntendlang)\n",
        "frntknowlang=skill_set.intersection(frntendlang_set) #Result of this is comman languages from user known list and our front end language list\n",
        "\n",
        "\n",
        "#To find out Back End Languages known to candidate\n",
        "backendlang=['JAVASCRIPT','JAVA SCRIPTS','JAVA SCRIPT','PYTHON','RUBY','NODEJS','NODE JS','PHP','C','C++','C#','JAVA','PERL','VISUAL BASIC','RUST','KOTLIN','R','SQL','MYSQL'\n",
        ",'POSTGRESQL','MICROSOFT SQL SERVER','SQLITE','MONGIDB','ORACLE','MARIADB','AWS'] #bACK End languages\n",
        "skill_set=set(upskill)                    \n",
        "backendlang_set=set(backendlang)\n",
        "backknowlang=skill_set.intersection(backendlang_set) #Result of this is comman languages from user known list and our Back end language list\n",
        "\n",
        "\n",
        "print(\"Name of Candidate:\",name)\n",
        "print('Technologies Known to Candidate:',upskill)\n",
        "print('From that Front End technologies are:',frntknowlang)\n",
        "print('From that Back End technologies are:',backknowlang)\n",
        "\n",
        "\n",
        "\n",
        " \n",
        " \n",
        "\n"
      ],
      "metadata": {
        "colab": {
          "base_uri": "https://localhost:8080/"
        },
        "id": "42O-vwwsYNCt",
        "outputId": "5c75becc-06e5-44a3-e54f-b7ea95e116b7"
      },
      "execution_count": 124,
      "outputs": [
        {
          "output_type": "stream",
          "name": "stdout",
          "text": [
            "Name of Candidate: Omkar Pathak\n",
            "Technologies Known to Candidate: ['OPERATING SYSTEMS', 'ALGORITHMS', 'PHP', 'ANALYTICS', 'MIGRATION', 'OPENCV', 'EXCEL', 'MACHINE LEARNING', 'C', 'CONTENT', 'TESTING', 'REPORTS', 'CLOUD', 'TECHNICAL', 'JAVASCRIPT', 'SECURITY', 'UNIX', 'WRITING', 'PYTHON', 'APIS', 'PHOTOGRAPHY', 'DJANGO', 'AUTOMATION', 'API', 'PARSER', 'CSS', 'SHELL', 'C++', 'WINDOWS', 'ENGINEERING', 'SYSTEM', 'GITHUB', 'AUDITING', 'HTML', 'MYSQL', 'SCIKIT-LEARN', 'PROGRAMMING', 'TRAINING', 'FLASK', 'SCRUM', 'LINUX', 'WEBSITE']\n",
            "From that Front End technologies are: {'HTML', 'JAVASCRIPT', 'CSS'}\n",
            "From that Back End technologies are: {'PHP', 'C', 'PYTHON', 'JAVASCRIPT', 'MYSQL', 'C++'}\n"
          ]
        }
      ]
    }
  ]
}